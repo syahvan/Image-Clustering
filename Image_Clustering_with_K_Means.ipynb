{
  "cells": [
    {
      "cell_type": "markdown",
      "metadata": {
        "id": "view-in-github",
        "colab_type": "text"
      },
      "source": [
        "<a href=\"https://colab.research.google.com/github/syahvan/Image-Clustering/blob/main/Image_Clustering_with_K_Means.ipynb\" target=\"_parent\"><img src=\"https://colab.research.google.com/assets/colab-badge.svg\" alt=\"Open In Colab\"/></a>"
      ]
    },
    {
      "cell_type": "markdown",
      "source": [
        "***Image clustering*** merupakan salah satu teknik unsupervised learning yang bertujuan untuk mengelompokkan gambar ke dalam beberapa cluster berdasarkan kesamaan visual atau fitur lainnya. Cluster adalah sekelompok atau sekumpulan objek-objek data yang similar satu sama lain dalam cluster yang sama dan disimilar terhadap objek-objek yang berbeda cluster. Kesamaan objek biasanya diperoleh dari nilai-nilai atribut yang menjelaskan objek data, sedangkan objek-objek data biasanya direpresentasikan sebagai sebuah titik dalam ruang multidimensi.\n",
        "\n",
        "![image clustering.png](data:image/png;base64,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)\n",
        "\n"
      ],
      "metadata": {
        "id": "eo0SwJ8ZQe_K"
      }
    },
    {
      "cell_type": "markdown",
      "source": [
        "# 1. Image Preprocessing"
      ],
      "metadata": {
        "id": "LrVUvO4rRvPG"
      }
    },
    {
      "cell_type": "code",
      "execution_count": 1,
      "metadata": {
        "id": "HaWybqKpNi0k"
      },
      "outputs": [],
      "source": [
        "#Import Library yang dibutuhkan\n",
        "import numpy as np\n",
        "import pandas as pd\n",
        "import tensorflow as tf\n",
        "import matplotlib.pyplot as plt\n",
        "from sklearn.cluster import KMeans\n",
        "from sklearn.metrics import silhouette_score, davies_bouldin_score\n",
        "import cv2\n",
        "import os, glob, shutil\n",
        "from sklearn.decomposition import PCA\n",
        "import time\n",
        "import warnings\n",
        "warnings.simplefilter(action='ignore', category=FutureWarning)"
      ]
    },
    {
      "cell_type": "code",
      "source": [
        "#Mounted dataset dari drive\n",
        "from google.colab import drive\n",
        "drive.mount('/content/drive')"
      ],
      "metadata": {
        "colab": {
          "base_uri": "https://localhost:8080/"
        },
        "id": "8G-LBYloOSFp",
        "outputId": "fdf27112-b3b1-41e8-c5a8-d4ef322e00dc"
      },
      "execution_count": 2,
      "outputs": [
        {
          "output_type": "stream",
          "name": "stdout",
          "text": [
            "Mounted at /content/drive\n"
          ]
        }
      ]
    },
    {
      "cell_type": "code",
      "execution_count": 3,
      "metadata": {
        "id": "09bi3mIXNi0o"
      },
      "outputs": [],
      "source": [
        "#Path dataset\n",
        "input_dir = '/content/drive/MyDrive/Dataset/image-dataset/*.jpeg'"
      ]
    },
    {
      "cell_type": "code",
      "execution_count": 4,
      "metadata": {
        "tags": [],
        "id": "RKXt3Fy4Ni0o",
        "colab": {
          "base_uri": "https://localhost:8080/"
        },
        "outputId": "84ff5946-7ace-4c55-95e7-bb8eb40d9a1e"
      },
      "outputs": [
        {
          "output_type": "execute_result",
          "data": {
            "text/plain": [
              "(1328, 150528)"
            ]
          },
          "metadata": {},
          "execution_count": 4
        }
      ],
      "source": [
        "#Image Preprocessing\n",
        "images = [cv2.resize(cv2.imread(file), (224, 224)) for file in glob.glob(input_dir)]\n",
        "images = np.array(np.float32(images).reshape(len(images), -1)/255)\n",
        "images.shape"
      ]
    },
    {
      "cell_type": "code",
      "source": [
        "len(images) #Jumlah gambar"
      ],
      "metadata": {
        "colab": {
          "base_uri": "https://localhost:8080/"
        },
        "id": "K0Y_iQ-NOnmR",
        "outputId": "fabd4438-73d2-4f47-ace9-48bf6f52a156"
      },
      "execution_count": 5,
      "outputs": [
        {
          "output_type": "execute_result",
          "data": {
            "text/plain": [
              "1328"
            ]
          },
          "metadata": {},
          "execution_count": 5
        }
      ]
    },
    {
      "cell_type": "markdown",
      "source": [
        "# 2. Feature Extraction"
      ],
      "metadata": {
        "id": "E2qILFxUSMCO"
      }
    },
    {
      "cell_type": "markdown",
      "source": [
        "## 2.1 Transfer Learning MobileNetV2"
      ],
      "metadata": {
        "id": "rtewaaoUSWr-"
      }
    },
    {
      "cell_type": "code",
      "execution_count": 6,
      "metadata": {
        "tags": [],
        "colab": {
          "base_uri": "https://localhost:8080/"
        },
        "id": "CEoEU1XQNi0o",
        "outputId": "4c5a3030-319e-433e-f943-cce03d03d7ae"
      },
      "outputs": [
        {
          "output_type": "stream",
          "name": "stdout",
          "text": [
            "Downloading data from https://storage.googleapis.com/tensorflow/keras-applications/mobilenet_v2/mobilenet_v2_weights_tf_dim_ordering_tf_kernels_1.0_224_no_top.h5\n",
            "9406464/9406464 [==============================] - 1s 0us/step\n",
            "42/42 [==============================] - 11s 42ms/step\n"
          ]
        }
      ],
      "source": [
        "#Feature extraction dengan transfer learning MobileNetV2\n",
        "model = tf.keras.applications.MobileNetV2(include_top=False, weights='imagenet', input_shape=(224, 224, 3))\n",
        "predictions = model.predict(images.reshape(-1, 224, 224, 3))\n",
        "pred_images = predictions.reshape(images.shape[0], -1)"
      ]
    },
    {
      "cell_type": "code",
      "source": [
        "pred_images.shape"
      ],
      "metadata": {
        "colab": {
          "base_uri": "https://localhost:8080/"
        },
        "id": "WsvS5uqbBF2i",
        "outputId": "69096656-8860-401f-b1b0-0a66ae9d061b"
      },
      "execution_count": 7,
      "outputs": [
        {
          "output_type": "execute_result",
          "data": {
            "text/plain": [
              "(1328, 62720)"
            ]
          },
          "metadata": {},
          "execution_count": 7
        }
      ]
    },
    {
      "cell_type": "markdown",
      "source": [
        "# 3. Model clustering dengan Algoritma K-Means"
      ],
      "metadata": {
        "id": "gs9lHn-dSuhf"
      }
    },
    {
      "cell_type": "markdown",
      "source": [
        "## 3.1 Metode Elbow"
      ],
      "metadata": {
        "id": "8PF-CnR0TdVf"
      }
    },
    {
      "cell_type": "code",
      "source": [
        "#Menentukan nilai K dengan Elbow Method\n",
        "st = time.time()\n",
        "kmax = 10\n",
        "inertia = []\n",
        "kl = []\n",
        "for k in range(2, kmax+1):\n",
        "    kmeans1 = KMeans(n_clusters=k).fit(pred_images)\n",
        "    inertia.append(kmeans1.inertia_)\n",
        "    kl.append(k)\n",
        "\n",
        "et = time.time()\n",
        "elapsed_time = et - st\n",
        "print('Execution time:', time.strftime(\"%H:%M:%S\", time.gmtime(elapsed_time)))"
      ],
      "metadata": {
        "id": "NSIxRAeMdaY5",
        "colab": {
          "base_uri": "https://localhost:8080/"
        },
        "outputId": "e840abd9-5945-4d32-dbea-8f6433e27412"
      },
      "execution_count": 10,
      "outputs": [
        {
          "output_type": "stream",
          "name": "stdout",
          "text": [
            "Execution time: 00:08:00\n"
          ]
        }
      ]
    },
    {
      "cell_type": "code",
      "source": [
        "plt.plot(kl, inertia)\n",
        "plt.ylabel('Sum of Squared Error (Inertia)')\n",
        "plt.xlabel('Number of Cluster')\n",
        "plt.title('Elbow Method')\n",
        "plt.show()"
      ],
      "metadata": {
        "colab": {
          "base_uri": "https://localhost:8080/",
          "height": 472
        },
        "id": "El352aSDeDd7",
        "outputId": "9ace4ac9-ce80-417c-d269-f61f4aa4165a"
      },
      "execution_count": 11,
      "outputs": [
        {
          "output_type": "display_data",
          "data": {
            "text/plain": [
              "<Figure size 640x480 with 1 Axes>"
            ],
            "image/png": "[encoded data removed]"
          },
          "metadata": {}
        }
      ]
    },
    {
      "cell_type": "code",
      "source": [
        "df4 = pd.DataFrame(\n",
        "    {'K': kl,\n",
        "     'Sum of Squared Error': inertia\n",
        "    })\n",
        "df4"
      ],
      "metadata": {
        "colab": {
          "base_uri": "https://localhost:8080/",
          "height": 331
        },
        "id": "svAdb3GpP69s",
        "outputId": "3ed3f419-c554-43c1-c104-2d488e721b6b"
      },
      "execution_count": 12,
      "outputs": [
        {
          "output_type": "execute_result",
          "data": {
            "text/plain": [
              "    K  Sum of Squared Error\n",
              "0   2            90034008.0\n",
              "1   3            88144184.0\n",
              "2   4            87343128.0\n",
              "3   5            86756944.0\n",
              "4   6            86300016.0\n",
              "5   7            86333120.0\n",
              "6   8            85637880.0\n",
              "7   9            85285344.0\n",
              "8  10            85182720.0"
            ],
            "text/html": [
              "\n",
              "\n",
              "  <div id=\"df-edfea00b-c604-468d-980c-49145ffff563\">\n",
              "    <div class=\"colab-df-container\">\n",
              "      <div>\n",
              "<style scoped>\n",
              "    .dataframe tbody tr th:only-of-type {\n",
              "        vertical-align: middle;\n",
              "    }\n",
              "\n",
              "    .dataframe tbody tr th {\n",
              "        vertical-align: top;\n",
              "    }\n",
              "\n",
              "    .dataframe thead th {\n",
              "        text-align: right;\n",
              "    }\n",
              "</style>\n",
              "<table border=\"1\" class=\"dataframe\">\n",
              "  <thead>\n",
              "    <tr style=\"text-align: right;\">\n",
              "      <th></th>\n",
              "      <th>K</th>\n",
              "      <th>Sum of Squared Error</th>\n",
              "    </tr>\n",
              "  </thead>\n",
              "  <tbody>\n",
              "    <tr>\n",
              "      <th>0</th>\n",
              "      <td>2</td>\n",
              "      <td>90034008.0</td>\n",
              "    </tr>\n",
              "    <tr>\n",
              "      <th>1</th>\n",
              "      <td>3</td>\n",
              "      <td>88144184.0</td>\n",
              "    </tr>\n",
              "    <tr>\n",
              "      <th>2</th>\n",
              "      <td>4</td>\n",
              "      <td>87343128.0</td>\n",
              "    </tr>\n",
              "    <tr>\n",
              "      <th>3</th>\n",
              "      <td>5</td>\n",
              "      <td>86756944.0</td>\n",
              "    </tr>\n",
              "    <tr>\n",
              "      <th>4</th>\n",
              "      <td>6</td>\n",
              "      <td>86300016.0</td>\n",
              "    </tr>\n",
              "    <tr>\n",
              "      <th>5</th>\n",
              "      <td>7</td>\n",
              "      <td>86333120.0</td>\n",
              "    </tr>\n",
              "    <tr>\n",
              "      <th>6</th>\n",
              "      <td>8</td>\n",
              "      <td>85637880.0</td>\n",
              "    </tr>\n",
              "    <tr>\n",
              "      <th>7</th>\n",
              "      <td>9</td>\n",
              "      <td>85285344.0</td>\n",
              "    </tr>\n",
              "    <tr>\n",
              "      <th>8</th>\n",
              "      <td>10</td>\n",
              "      <td>85182720.0</td>\n",
              "    </tr>\n",
              "  </tbody>\n",
              "</table>\n",
              "</div>\n",
              "      <button class=\"colab-df-convert\" onclick=\"convertToInteractive('df-edfea00b-c604-468d-980c-49145ffff563')\"\n",
              "              title=\"Convert this dataframe to an interactive table.\"\n",
              "              style=\"display:none;\">\n",
              "\n",
              "  <svg xmlns=\"http://www.w3.org/2000/svg\" height=\"24px\"viewBox=\"0 0 24 24\"\n",
              "       width=\"24px\">\n",
              "    <path d=\"M0 0h24v24H0V0z\" fill=\"none\"/>\n",
              "    <path d=\"M18.56 5.44l.94 2.06.94-2.06 2.06-.94-2.06-.94-.94-2.06-.94 2.06-2.06.94zm-11 1L8.5 8.5l.94-2.06 2.06-.94-2.06-.94L8.5 2.5l-.94 2.06-2.06.94zm10 10l.94 2.06.94-2.06 2.06-.94-2.06-.94-.94-2.06-.94 2.06-2.06.94z\"/><path d=\"M17.41 7.96l-1.37-1.37c-.4-.4-.92-.59-1.43-.59-.52 0-1.04.2-1.43.59L10.3 9.45l-7.72 7.72c-.78.78-.78 2.05 0 2.83L4 21.41c.39.39.9.59 1.41.59.51 0 1.02-.2 1.41-.59l7.78-7.78 2.81-2.81c.8-.78.8-2.07 0-2.86zM5.41 20L4 18.59l7.72-7.72 1.47 1.35L5.41 20z\"/>\n",
              "  </svg>\n",
              "      </button>\n",
              "\n",
              "\n",
              "\n",
              "    <div id=\"df-c9264644-1476-4a4e-9905-5e3454c78abb\">\n",
              "      <button class=\"colab-df-quickchart\" onclick=\"quickchart('df-c9264644-1476-4a4e-9905-5e3454c78abb')\"\n",
              "              title=\"Suggest charts.\"\n",
              "              style=\"display:none;\">\n",
              "\n",
              "<svg xmlns=\"http://www.w3.org/2000/svg\" height=\"24px\"viewBox=\"0 0 24 24\"\n",
              "     width=\"24px\">\n",
              "    <g>\n",
              "        <path d=\"M19 3H5c-1.1 0-2 .9-2 2v14c0 1.1.9 2 2 2h14c1.1 0 2-.9 2-2V5c0-1.1-.9-2-2-2zM9 17H7v-7h2v7zm4 0h-2V7h2v10zm4 0h-2v-4h2v4z\"/>\n",
              "    </g>\n",
              "</svg>\n",
              "      </button>\n",
              "    </div>\n",
              "\n",
              "<style>\n",
              "  .colab-df-quickchart {\n",
              "    background-color: #E8F0FE;\n",
              "    border: none;\n",
              "    border-radius: 50%;\n",
              "    cursor: pointer;\n",
              "    display: none;\n",
              "    fill: #1967D2;\n",
              "    height: 32px;\n",
              "    padding: 0 0 0 0;\n",
              "    width: 32px;\n",
              "  }\n",
              "\n",
              "  .colab-df-quickchart:hover {\n",
              "    background-color: #E2EBFA;\n",
              "    box-shadow: 0px 1px 2px rgba(60, 64, 67, 0.3), 0px 1px 3px 1px rgba(60, 64, 67, 0.15);\n",
              "    fill: #174EA6;\n",
              "  }\n",
              "\n",
              "  [theme=dark] .colab-df-quickchart {\n",
              "    background-color: #3B4455;\n",
              "    fill: #D2E3FC;\n",
              "  }\n",
              "\n",
              "  [theme=dark] .colab-df-quickchart:hover {\n",
              "    background-color: #434B5C;\n",
              "    box-shadow: 0px 1px 3px 1px rgba(0, 0, 0, 0.15);\n",
              "    filter: drop-shadow(0px 1px 2px rgba(0, 0, 0, 0.3));\n",
              "    fill: #FFFFFF;\n",
              "  }\n",
              "</style>\n",
              "\n",
              "    <script>\n",
              "      async function quickchart(key) {\n",
              "        const containerElement = document.querySelector('#' + key);\n",
              "        const charts = await google.colab.kernel.invokeFunction(\n",
              "            'suggestCharts', [key], {});\n",
              "      }\n",
              "    </script>\n",
              "\n",
              "      <script>\n",
              "\n",
              "function displayQuickchartButton(domScope) {\n",
              "  let quickchartButtonEl =\n",
              "    domScope.querySelector('#df-c9264644-1476-4a4e-9905-5e3454c78abb button.colab-df-quickchart');\n",
              "  quickchartButtonEl.style.display =\n",
              "    google.colab.kernel.accessAllowed ? 'block' : 'none';\n",
              "}\n",
              "\n",
              "        displayQuickchartButton(document);\n",
              "      </script>\n",
              "      <style>\n",
              "    .colab-df-container {\n",
              "      display:flex;\n",
              "      flex-wrap:wrap;\n",
              "      gap: 12px;\n",
              "    }\n",
              "\n",
              "    .colab-df-convert {\n",
              "      background-color: #E8F0FE;\n",
              "      border: none;\n",
              "      border-radius: 50%;\n",
              "      cursor: pointer;\n",
              "      display: none;\n",
              "      fill: #1967D2;\n",
              "      height: 32px;\n",
              "      padding: 0 0 0 0;\n",
              "      width: 32px;\n",
              "    }\n",
              "\n",
              "    .colab-df-convert:hover {\n",
              "      background-color: #E2EBFA;\n",
              "      box-shadow: 0px 1px 2px rgba(60, 64, 67, 0.3), 0px 1px 3px 1px rgba(60, 64, 67, 0.15);\n",
              "      fill: #174EA6;\n",
              "    }\n",
              "\n",
              "    [theme=dark] .colab-df-convert {\n",
              "      background-color: #3B4455;\n",
              "      fill: #D2E3FC;\n",
              "    }\n",
              "\n",
              "    [theme=dark] .colab-df-convert:hover {\n",
              "      background-color: #434B5C;\n",
              "      box-shadow: 0px 1px 3px 1px rgba(0, 0, 0, 0.15);\n",
              "      filter: drop-shadow(0px 1px 2px rgba(0, 0, 0, 0.3));\n",
              "      fill: #FFFFFF;\n",
              "    }\n",
              "  </style>\n",
              "\n",
              "      <script>\n",
              "        const buttonEl =\n",
              "          document.querySelector('#df-edfea00b-c604-468d-980c-49145ffff563 button.colab-df-convert');\n",
              "        buttonEl.style.display =\n",
              "          google.colab.kernel.accessAllowed ? 'block' : 'none';\n",
              "\n",
              "        async function convertToInteractive(key) {\n",
              "          const element = document.querySelector('#df-edfea00b-c604-468d-980c-49145ffff563');\n",
              "          const dataTable =\n",
              "            await google.colab.kernel.invokeFunction('convertToInteractive',\n",
              "                                                     [key], {});\n",
              "          if (!dataTable) return;\n",
              "\n",
              "          const docLinkHtml = 'Like what you see? Visit the ' +\n",
              "            '<a target=\"_blank\" href=https://colab.research.google.com/notebooks/data_table.ipynb>data table notebook</a>'\n",
              "            + ' to learn more about interactive tables.';\n",
              "          element.innerHTML = '';\n",
              "          dataTable['output_type'] = 'display_data';\n",
              "          await google.colab.output.renderOutput(dataTable, element);\n",
              "          const docLink = document.createElement('div');\n",
              "          docLink.innerHTML = docLinkHtml;\n",
              "          element.appendChild(docLink);\n",
              "        }\n",
              "      </script>\n",
              "    </div>\n",
              "  </div>\n"
            ]
          },
          "metadata": {},
          "execution_count": 12
        }
      ]
    },
    {
      "cell_type": "markdown",
      "source": [
        "### 3.2 Metode Silhouette"
      ],
      "metadata": {
        "id": "o3oi25gITl15"
      }
    },
    {
      "cell_type": "code",
      "execution_count": 15,
      "metadata": {
        "id": "RnVs_fsgNi0p",
        "colab": {
          "base_uri": "https://localhost:8080/"
        },
        "outputId": "76faeb3f-e558-4ce6-eb0d-f27eed3fdaae"
      },
      "outputs": [
        {
          "output_type": "stream",
          "name": "stdout",
          "text": [
            "Execution time: 00:08:46\n"
          ]
        }
      ],
      "source": [
        "#Menentukan nilai K dengan Silhouette Method\n",
        "st = time.time()\n",
        "sil = []\n",
        "kl = []\n",
        "kmax = 10\n",
        "for k in range(2, kmax+1):\n",
        "  kmeans2 = KMeans(n_clusters = k).fit(pred_images)\n",
        "  labels = kmeans2.labels_\n",
        "  sil.append(silhouette_score(pred_images, labels, metric = 'euclidean'))\n",
        "  kl.append(k)\n",
        "\n",
        "et = time.time()\n",
        "elapsed_time = et - st\n",
        "print('Execution time:', time.strftime(\"%H:%M:%S\", time.gmtime(elapsed_time)))"
      ]
    },
    {
      "cell_type": "code",
      "execution_count": 16,
      "metadata": {
        "colab": {
          "base_uri": "https://localhost:8080/",
          "height": 472
        },
        "id": "E7WK7eAINi0p",
        "outputId": "153cb6bb-aeb9-4736-8566-f32a3c705be1"
      },
      "outputs": [
        {
          "output_type": "display_data",
          "data": {
            "text/plain": [
              "<Figure size 640x480 with 1 Axes>"
            ],
            "image/png": "[encoded data removed]"
          },
          "metadata": {}
        }
      ],
      "source": [
        "plt.plot(kl, sil)\n",
        "plt.ylabel('Silhoutte Score')\n",
        "plt.xlabel('K')\n",
        "plt.title('Silhouette Method')\n",
        "plt.show()"
      ]
    },
    {
      "cell_type": "code",
      "source": [
        "df3 = pd.DataFrame(\n",
        "    {'K': kl,\n",
        "     'Silhoutte Score': sil\n",
        "    })\n",
        "df3"
      ],
      "metadata": {
        "colab": {
          "base_uri": "https://localhost:8080/",
          "height": 331
        },
        "id": "-9jsRiLKPzBA",
        "outputId": "0a824864-3486-4417-c387-eb0d3dbc7039"
      },
      "execution_count": 17,
      "outputs": [
        {
          "output_type": "execute_result",
          "data": {
            "text/plain": [
              "    K  Silhoutte Score\n",
              "0   2         0.020474\n",
              "1   3         0.026205\n",
              "2   4         0.023846\n",
              "3   5         0.002999\n",
              "4   6         0.011220\n",
              "5   7        -0.004654\n",
              "6   8        -0.000274\n",
              "7   9        -0.000720\n",
              "8  10        -0.004651"
            ],
            "text/html": [
              "\n",
              "\n",
              "  <div id=\"df-6589aa55-05b9-4ef5-aff1-0a9e72b304c9\">\n",
              "    <div class=\"colab-df-container\">\n",
              "      <div>\n",
              "<style scoped>\n",
              "    .dataframe tbody tr th:only-of-type {\n",
              "        vertical-align: middle;\n",
              "    }\n",
              "\n",
              "    .dataframe tbody tr th {\n",
              "        vertical-align: top;\n",
              "    }\n",
              "\n",
              "    .dataframe thead th {\n",
              "        text-align: right;\n",
              "    }\n",
              "</style>\n",
              "<table border=\"1\" class=\"dataframe\">\n",
              "  <thead>\n",
              "    <tr style=\"text-align: right;\">\n",
              "      <th></th>\n",
              "      <th>K</th>\n",
              "      <th>Silhoutte Score</th>\n",
              "    </tr>\n",
              "  </thead>\n",
              "  <tbody>\n",
              "    <tr>\n",
              "      <th>0</th>\n",
              "      <td>2</td>\n",
              "      <td>0.020474</td>\n",
              "    </tr>\n",
              "    <tr>\n",
              "      <th>1</th>\n",
              "      <td>3</td>\n",
              "      <td>0.026205</td>\n",
              "    </tr>\n",
              "    <tr>\n",
              "      <th>2</th>\n",
              "      <td>4</td>\n",
              "      <td>0.023846</td>\n",
              "    </tr>\n",
              "    <tr>\n",
              "      <th>3</th>\n",
              "      <td>5</td>\n",
              "      <td>0.002999</td>\n",
              "    </tr>\n",
              "    <tr>\n",
              "      <th>4</th>\n",
              "      <td>6</td>\n",
              "      <td>0.011220</td>\n",
              "    </tr>\n",
              "    <tr>\n",
              "      <th>5</th>\n",
              "      <td>7</td>\n",
              "      <td>-0.004654</td>\n",
              "    </tr>\n",
              "    <tr>\n",
              "      <th>6</th>\n",
              "      <td>8</td>\n",
              "      <td>-0.000274</td>\n",
              "    </tr>\n",
              "    <tr>\n",
              "      <th>7</th>\n",
              "      <td>9</td>\n",
              "      <td>-0.000720</td>\n",
              "    </tr>\n",
              "    <tr>\n",
              "      <th>8</th>\n",
              "      <td>10</td>\n",
              "      <td>-0.004651</td>\n",
              "    </tr>\n",
              "  </tbody>\n",
              "</table>\n",
              "</div>\n",
              "      <button class=\"colab-df-convert\" onclick=\"convertToInteractive('df-6589aa55-05b9-4ef5-aff1-0a9e72b304c9')\"\n",
              "              title=\"Convert this dataframe to an interactive table.\"\n",
              "              style=\"display:none;\">\n",
              "\n",
              "  <svg xmlns=\"http://www.w3.org/2000/svg\" height=\"24px\"viewBox=\"0 0 24 24\"\n",
              "       width=\"24px\">\n",
              "    <path d=\"M0 0h24v24H0V0z\" fill=\"none\"/>\n",
              "    <path d=\"M18.56 5.44l.94 2.06.94-2.06 2.06-.94-2.06-.94-.94-2.06-.94 2.06-2.06.94zm-11 1L8.5 8.5l.94-2.06 2.06-.94-2.06-.94L8.5 2.5l-.94 2.06-2.06.94zm10 10l.94 2.06.94-2.06 2.06-.94-2.06-.94-.94-2.06-.94 2.06-2.06.94z\"/><path d=\"M17.41 7.96l-1.37-1.37c-.4-.4-.92-.59-1.43-.59-.52 0-1.04.2-1.43.59L10.3 9.45l-7.72 7.72c-.78.78-.78 2.05 0 2.83L4 21.41c.39.39.9.59 1.41.59.51 0 1.02-.2 1.41-.59l7.78-7.78 2.81-2.81c.8-.78.8-2.07 0-2.86zM5.41 20L4 18.59l7.72-7.72 1.47 1.35L5.41 20z\"/>\n",
              "  </svg>\n",
              "      </button>\n",
              "\n",
              "\n",
              "\n",
              "    <div id=\"df-90cea162-3e2f-43df-8c98-b928afb39338\">\n",
              "      <button class=\"colab-df-quickchart\" onclick=\"quickchart('df-90cea162-3e2f-43df-8c98-b928afb39338')\"\n",
              "              title=\"Suggest charts.\"\n",
              "              style=\"display:none;\">\n",
              "\n",
              "<svg xmlns=\"http://www.w3.org/2000/svg\" height=\"24px\"viewBox=\"0 0 24 24\"\n",
              "     width=\"24px\">\n",
              "    <g>\n",
              "        <path d=\"M19 3H5c-1.1 0-2 .9-2 2v14c0 1.1.9 2 2 2h14c1.1 0 2-.9 2-2V5c0-1.1-.9-2-2-2zM9 17H7v-7h2v7zm4 0h-2V7h2v10zm4 0h-2v-4h2v4z\"/>\n",
              "    </g>\n",
              "</svg>\n",
              "      </button>\n",
              "    </div>\n",
              "\n",
              "<style>\n",
              "  .colab-df-quickchart {\n",
              "    background-color: #E8F0FE;\n",
              "    border: none;\n",
              "    border-radius: 50%;\n",
              "    cursor: pointer;\n",
              "    display: none;\n",
              "    fill: #1967D2;\n",
              "    height: 32px;\n",
              "    padding: 0 0 0 0;\n",
              "    width: 32px;\n",
              "  }\n",
              "\n",
              "  .colab-df-quickchart:hover {\n",
              "    background-color: #E2EBFA;\n",
              "    box-shadow: 0px 1px 2px rgba(60, 64, 67, 0.3), 0px 1px 3px 1px rgba(60, 64, 67, 0.15);\n",
              "    fill: #174EA6;\n",
              "  }\n",
              "\n",
              "  [theme=dark] .colab-df-quickchart {\n",
              "    background-color: #3B4455;\n",
              "    fill: #D2E3FC;\n",
              "  }\n",
              "\n",
              "  [theme=dark] .colab-df-quickchart:hover {\n",
              "    background-color: #434B5C;\n",
              "    box-shadow: 0px 1px 3px 1px rgba(0, 0, 0, 0.15);\n",
              "    filter: drop-shadow(0px 1px 2px rgba(0, 0, 0, 0.3));\n",
              "    fill: #FFFFFF;\n",
              "  }\n",
              "</style>\n",
              "\n",
              "    <script>\n",
              "      async function quickchart(key) {\n",
              "        const containerElement = document.querySelector('#' + key);\n",
              "        const charts = await google.colab.kernel.invokeFunction(\n",
              "            'suggestCharts', [key], {});\n",
              "      }\n",
              "    </script>\n",
              "\n",
              "      <script>\n",
              "\n",
              "function displayQuickchartButton(domScope) {\n",
              "  let quickchartButtonEl =\n",
              "    domScope.querySelector('#df-90cea162-3e2f-43df-8c98-b928afb39338 button.colab-df-quickchart');\n",
              "  quickchartButtonEl.style.display =\n",
              "    google.colab.kernel.accessAllowed ? 'block' : 'none';\n",
              "}\n",
              "\n",
              "        displayQuickchartButton(document);\n",
              "      </script>\n",
              "      <style>\n",
              "    .colab-df-container {\n",
              "      display:flex;\n",
              "      flex-wrap:wrap;\n",
              "      gap: 12px;\n",
              "    }\n",
              "\n",
              "    .colab-df-convert {\n",
              "      background-color: #E8F0FE;\n",
              "      border: none;\n",
              "      border-radius: 50%;\n",
              "      cursor: pointer;\n",
              "      display: none;\n",
              "      fill: #1967D2;\n",
              "      height: 32px;\n",
              "      padding: 0 0 0 0;\n",
              "      width: 32px;\n",
              "    }\n",
              "\n",
              "    .colab-df-convert:hover {\n",
              "      background-color: #E2EBFA;\n",
              "      box-shadow: 0px 1px 2px rgba(60, 64, 67, 0.3), 0px 1px 3px 1px rgba(60, 64, 67, 0.15);\n",
              "      fill: #174EA6;\n",
              "    }\n",
              "\n",
              "    [theme=dark] .colab-df-convert {\n",
              "      background-color: #3B4455;\n",
              "      fill: #D2E3FC;\n",
              "    }\n",
              "\n",
              "    [theme=dark] .colab-df-convert:hover {\n",
              "      background-color: #434B5C;\n",
              "      box-shadow: 0px 1px 3px 1px rgba(0, 0, 0, 0.15);\n",
              "      filter: drop-shadow(0px 1px 2px rgba(0, 0, 0, 0.3));\n",
              "      fill: #FFFFFF;\n",
              "    }\n",
              "  </style>\n",
              "\n",
              "      <script>\n",
              "        const buttonEl =\n",
              "          document.querySelector('#df-6589aa55-05b9-4ef5-aff1-0a9e72b304c9 button.colab-df-convert');\n",
              "        buttonEl.style.display =\n",
              "          google.colab.kernel.accessAllowed ? 'block' : 'none';\n",
              "\n",
              "        async function convertToInteractive(key) {\n",
              "          const element = document.querySelector('#df-6589aa55-05b9-4ef5-aff1-0a9e72b304c9');\n",
              "          const dataTable =\n",
              "            await google.colab.kernel.invokeFunction('convertToInteractive',\n",
              "                                                     [key], {});\n",
              "          if (!dataTable) return;\n",
              "\n",
              "          const docLinkHtml = 'Like what you see? Visit the ' +\n",
              "            '<a target=\"_blank\" href=https://colab.research.google.com/notebooks/data_table.ipynb>data table notebook</a>'\n",
              "            + ' to learn more about interactive tables.';\n",
              "          element.innerHTML = '';\n",
              "          dataTable['output_type'] = 'display_data';\n",
              "          await google.colab.output.renderOutput(dataTable, element);\n",
              "          const docLink = document.createElement('div');\n",
              "          docLink.innerHTML = docLinkHtml;\n",
              "          element.appendChild(docLink);\n",
              "        }\n",
              "      </script>\n",
              "    </div>\n",
              "  </div>\n"
            ]
          },
          "metadata": {},
          "execution_count": 17
        }
      ]
    },
    {
      "cell_type": "markdown",
      "source": [
        "Pada Elbow Method, bentuk siku terlihat pada saat k = 3. Pada Silhouette Method, nilai puncak juga terlihat pada saat k = 3. Oleh karena itu, data akan dibagi menjadi 3 cluster"
      ],
      "metadata": {
        "id": "rMcF-tLav9Ss"
      }
    },
    {
      "cell_type": "markdown",
      "source": [
        "# 4. Membagi Data ke dalam Folder Cluster"
      ],
      "metadata": {
        "id": "scOLMtgGNa3Q"
      }
    },
    {
      "cell_type": "code",
      "execution_count": 21,
      "metadata": {
        "tags": [],
        "id": "HseJauvXNi0q"
      },
      "outputs": [],
      "source": [
        "#Membagi data menjadi 3 cluster dalam folder yang berbeda\n",
        "k = 3\n",
        "kmodel = KMeans(n_clusters=k, random_state=42)\n",
        "kmodel.fit(pred_images)\n",
        "kpredictions = kmodel.predict(pred_images)\n",
        "\n",
        "paths = [file for file in glob.glob(input_dir)]\n",
        "for i in range(k):\n",
        "\tos.makedirs(\"/content/drive/MyDrive/Dataset/Output-Cluster/Cluster-\" + str(i))\n",
        "for i in range(len(paths)):\n",
        "\tshutil.copy2(paths[i], \"/content/drive/MyDrive/Dataset/Output-Cluster/Cluster-\"+str(kpredictions[i]))"
      ]
    },
    {
      "cell_type": "markdown",
      "source": [
        "\n",
        "Jika dilihat hasilnya dalam ketiga folder cluster, isi gambar pada tiap cluster:\n",
        "1.   Cluster-0 = Pegunungan\n",
        "2.   Cluster-1 = Pantai\n",
        "3.   Cluster-2 = Hutan atau Pepohonan\n",
        "\n",
        "\n",
        "\n",
        "\n"
      ],
      "metadata": {
        "id": "AaRuBLVkxc-r"
      }
    }
  ],
  "metadata": {
    "language_info": {
      "name": "python"
    },
    "orig_nbformat": 2,
    "kernelspec": {
      "name": "python3",
      "display_name": "Python 3"
    },
    "colab": {
      "provenance": [],
      "include_colab_link": true
    },
    "accelerator": "GPU",
    "gpuClass": "standard"
  },
  "nbformat": 4,
  "nbformat_minor": 0
}